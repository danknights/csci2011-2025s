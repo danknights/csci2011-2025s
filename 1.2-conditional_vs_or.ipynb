{
 "cells": [
  {
   "cell_type": "code",
   "execution_count": 27,
   "id": "8009fc22-66aa-4390-ab55-715e47b557aa",
   "metadata": {},
   "outputs": [],
   "source": [
    "# Define the truth values of p and q\n",
    "# p: \"It is raining\"\n",
    "# q: \"The ground is wet\"\n",
    "p = True # Just for example, say it is raining\n",
    "q = False # Just for example, say the ground is dry\n",
    "\n",
    "# define the conditional p -> q\n",
    "def if_p_then_q(p, q):\n",
    "    if p:\n",
    "        if q:\n",
    "            return True\n",
    "        else:\n",
    "            return False\n",
    "    else:\n",
    "        return True\n",
    "\n",
    "# define the disjunction ¬p ∨ q\t\n",
    "def notp_or_q(p,q):\n",
    "    if (not p) or q:\n",
    "        return True\n",
    "    else:\n",
    "        return False\n",
    "    "
   ]
  },
  {
   "cell_type": "code",
   "execution_count": 29,
   "id": "6f0fe8e7-0fe9-4ce8-be94-7fec1afc7c66",
   "metadata": {},
   "outputs": [
    {
     "name": "stdout",
     "output_type": "stream",
     "text": [
      "Conditional truth values:\n",
      "True\n",
      "False\n",
      "True\n",
      "True\n",
      "\n",
      "Disjunction truth values:\n",
      "True\n",
      "False\n",
      "True\n",
      "True\n"
     ]
    }
   ],
   "source": [
    "print(\"Conditional truth values:\")\n",
    "print(if_p_then_q(True, True))\n",
    "print(if_p_then_q(True, False))\n",
    "print(if_p_then_q(False, True))\n",
    "print(if_p_then_q(False, False))\n",
    "print(\"\")\n",
    "print(\"Disjunction truth values:\")\n",
    "print(notp_or_q(True, True))\n",
    "print(notp_or_q(True, False))\n",
    "print(notp_or_q(False, True))\n",
    "print(notp_or_q(False, False))"
   ]
  }
 ],
 "metadata": {
  "kernelspec": {
   "display_name": "Python 3 (ipykernel)",
   "language": "python",
   "name": "python3"
  },
  "language_info": {
   "codemirror_mode": {
    "name": "ipython",
    "version": 3
   },
   "file_extension": ".py",
   "mimetype": "text/x-python",
   "name": "python",
   "nbconvert_exporter": "python",
   "pygments_lexer": "ipython3",
   "version": "3.13.0"
  }
 },
 "nbformat": 4,
 "nbformat_minor": 5
}

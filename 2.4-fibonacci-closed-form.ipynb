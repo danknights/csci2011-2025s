{
 "cells": [
  {
   "cell_type": "code",
   "execution_count": null,
   "id": "eca17edd-052d-4734-b7da-7c9b02ed06a1",
   "metadata": {},
   "outputs": [],
   "source": [
    "def f(n):\n",
    "    \"\"\" Recurrence relation definition of Fibonacci sequence\n",
    "    \"\"\"\n",
    "    if n < 3:\n",
    "        return 1\n",
    "    else:\n",
    "        return f(n-1) + f(n-2)"
   ]
  },
  {
   "cell_type": "code",
   "execution_count": null,
   "id": "e3eaa0a7-2ce6-43d3-9db2-21abed83d327",
   "metadata": {},
   "outputs": [],
   "source": [
    "# Note, it takes forever to calculate even f(100)\n",
    "print(f(10))"
   ]
  },
  {
   "cell_type": "code",
   "execution_count": null,
   "id": "57e762db-f5c9-44e8-970c-bb16d7be7bbd",
   "metadata": {},
   "outputs": [],
   "source": [
    "import math\n",
    "\n",
    "def f_closed(n):\n",
    "    \"\"\" Closed form solution for nth term of Fibonacci sequence\n",
    "    \"\"\"\n",
    "    phi = (1 + math.sqrt(5)) / 2\n",
    "    psi = (1 - math.sqrt(5)) / 2\n",
    "    return round((phi**n - psi**n) / math.sqrt(5))"
   ]
  },
  {
   "cell_type": "code",
   "execution_count": null,
   "id": "de44bc61-cf8f-417b-879e-f739ad24f34a",
   "metadata": {},
   "outputs": [],
   "source": [
    "# now it runs in a single step\n",
    "print(f_closed(10))\n",
    "print(f_closed(100))"
   ]
  },
  {
   "cell_type": "code",
   "execution_count": null,
   "id": "d1e75870-910e-4093-81cd-558c598261a8",
   "metadata": {},
   "outputs": [],
   "source": []
  }
 ],
 "metadata": {
  "kernelspec": {
   "display_name": "Python 3 (ipykernel)",
   "language": "python",
   "name": "python3"
  },
  "language_info": {
   "codemirror_mode": {
    "name": "ipython",
    "version": 3
   },
   "file_extension": ".py",
   "mimetype": "text/x-python",
   "name": "python",
   "nbconvert_exporter": "python",
   "pygments_lexer": "ipython3",
   "version": "3.13.0"
  }
 },
 "nbformat": 4,
 "nbformat_minor": 5
}

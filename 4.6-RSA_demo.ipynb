{
 "cells": [
  {
   "cell_type": "markdown",
   "id": "5c867818-3f79-4c9e-aeae-5e02d1a64624",
   "metadata": {},
   "source": [
    "# RSA Encryption Demo\n",
    "\n",
    "### 1. Find two large prime numbers, p and q"
   ]
  },
  {
   "cell_type": "code",
   "execution_count": null,
   "id": "e21f84ad-dfe4-4cf6-991e-987b55d7cdf0",
   "metadata": {},
   "outputs": [],
   "source": [
    "import secrets # gives better random numbers \n",
    "\n",
    "# find values for p and q that satisfy the Fermat's Little Theorem test\n",
    "while True:\n",
    "    p = secrets.randbits(512) # sample a random 512-bit number \n",
    "    if pow(2,p-1,p) == 1: break\n",
    "\n",
    "while True:\n",
    "    q = secrets.randbits(512) # sample a random 512-bit number \n",
    "    if pow(2,q-1,q) == 1: break\n",
    "\n",
    "# Note: For more security, we would use 2048 or 4096 bits\n",
    "# and would install the sympy package and use:\n",
    "# from sympy import isprime\n",
    "# while True:\n",
    "#     q = secrets.randbits(512) # sample a random 512-bit number \n",
    "#     if pow(2,q-1,q) == 1:\n",
    "#         if isprime(p): break # to avoid the rare Carmichael number\n",
    "\n",
    "print(f'p = {p}\\n')\n",
    "print(f'q = {q}\\n')"
   ]
  },
  {
   "cell_type": "markdown",
   "id": "c21a87ca-1f8c-4e12-9443-1b53f0a44241",
   "metadata": {},
   "source": [
    "### 2. Calculate n = pq and phi = (p-1)(q-1) (known as Euler's totient)"
   ]
  },
  {
   "cell_type": "code",
   "execution_count": null,
   "id": "97510528-97f2-4c17-b493-22e004b87cb3",
   "metadata": {},
   "outputs": [],
   "source": [
    "n = p * q\n",
    "phi = (p-1)*(q-1)\n",
    "print(f'n = {n}\\n')\n",
    "print(f'phi = {phi}\\n')"
   ]
  },
  {
   "cell_type": "markdown",
   "id": "849ecd62-f118-4805-96fd-d86e1fbbc4b9",
   "metadata": {},
   "source": [
    "### 3. Chose the public exponent, e (commonly set to 65537)"
   ]
  },
  {
   "cell_type": "code",
   "execution_count": null,
   "id": "e70e7e5d-b5fe-4fe5-9c40-dd9b1f509cab",
   "metadata": {},
   "outputs": [],
   "source": [
    "e = 65537\n",
    "print(f'The public exponent e is {e}')"
   ]
  },
  {
   "cell_type": "markdown",
   "id": "113057a8-0e16-4b95-bfaa-0c44e972bfe5",
   "metadata": {},
   "source": [
    "### 4. Test whether e and phi are relatively prime\n",
    "We will calculate gcd(e, phi) using the Euclidean algorithm. If they are not relatively prime, we need to find another p and q."
   ]
  },
  {
   "cell_type": "code",
   "execution_count": null,
   "id": "26451098-c4ea-41a3-886a-764019b5b97a",
   "metadata": {},
   "outputs": [],
   "source": [
    "def gcd(a, b):\n",
    "    \"\"\" Euclidean algorithm \"\"\"\n",
    "    while b > 0:\n",
    "        print(f\"gcd({a, b})\")\n",
    "        remainder = a % b\n",
    "        a = b\n",
    "        b = remainder\n",
    "    return a\n",
    "\n",
    "print(f'\\ngcd(phi, e) = {gcd(phi, e)}\\n')\n"
   ]
  },
  {
   "cell_type": "markdown",
   "id": "84afdb10-052f-413d-91ff-3d79c18e1165",
   "metadata": {},
   "source": [
    "### 5. Find the private exponent d\n",
    "d will be the multiplicative inverse of e (mod phi). We find it using the extended euclidean algorithm, or the `pow` function in Python 3.8+."
   ]
  },
  {
   "cell_type": "code",
   "execution_count": null,
   "id": "e3af15f3-c010-4787-95fd-238ad66252d0",
   "metadata": {},
   "outputs": [],
   "source": [
    "d = pow(e, -1, phi)\n",
    "print(f'My private key is:\\n')\n",
    "print(f'd = {d}\\n')\n",
    "print(f'n = {n}\\n')"
   ]
  },
  {
   "cell_type": "markdown",
   "id": "892937f5-3638-49e8-b7cb-b63bad81ecd7",
   "metadata": {},
   "source": [
    "### 6. Share your public key, which consists of (e, n)\n",
    "The public key is the public exponent, e, and the modulus, n."
   ]
  },
  {
   "cell_type": "code",
   "execution_count": null,
   "id": "e602d0b0-61c5-4a88-8381-411956453477",
   "metadata": {},
   "outputs": [],
   "source": [
    "print(f'My public key is:\\n')\n",
    "print(f'e = {e}\\n')\n",
    "print(f'n = {n}\\n')"
   ]
  },
  {
   "cell_type": "markdown",
   "id": "d8922ceb-d985-443a-99e0-f569560c7458",
   "metadata": {},
   "source": [
    "### 7. Encrypt a secret message to yourself (for demo purposes)\n",
    "To send someone a secret message, we convert the string to a number from its byte representation. Then we raise the number to *their public exponent*, modulo *their public modulus n*, M^e mod n. We also check that the message number is < n so that it \"fits\" in (mod n).\n",
    "\n",
    "Here you will use your own public key to encrypt a message to yourself, for demonstration purposes.\n",
    "\n",
    "*To encrypt a message using someone else's public key, scroll down to last code block.*"
   ]
  },
  {
   "cell_type": "code",
   "execution_count": null,
   "id": "42990040-5f39-4329-911a-2813b06d4956",
   "metadata": {},
   "outputs": [],
   "source": [
    "def string_to_number(s):\n",
    "    \"\"\" Converts a string to bytes and then to integer (ChatGPT 4o)\"\"\"\n",
    "    return int.from_bytes(s.encode('utf-8'), byteorder='big')\n",
    "\n",
    "# Enter a message that you want to send\n",
    "M = string_to_number(\"This is my secret message!\") # convert the message to a number\n",
    "\n",
    "# Check that M is less than n\n",
    "if M >= n:\n",
    "    raise ValueError(\"Message too long! M must be less than n.\")\n",
    "\n",
    "# encrypt\n",
    "C = pow(M, e, n)\n",
    "\n",
    "print(f'The unencrypted message is:\\n')\n",
    "print(f'M = {M}\\n')\n",
    "print(f'The encrypted message, M^e mod n:\\n')\n",
    "print(f'C = {C}\\n')"
   ]
  },
  {
   "cell_type": "markdown",
   "id": "f52c8ee4-3c92-402e-9674-40e04cabf7ec",
   "metadata": {},
   "source": [
    "### 8. Decrypt a message you received\n",
    "\n",
    "To decrypt a received message, we simply raise it to the dth power, C^d mod n, and then convert back to a string. Make sure you have shared your public key with them and they have used your public key.\n"
   ]
  },
  {
   "cell_type": "code",
   "execution_count": null,
   "id": "b58f988b-ca75-469d-8ea6-ee2d1798e7fa",
   "metadata": {},
   "outputs": [],
   "source": [
    "def number_to_string(n):\n",
    "    \"\"\" Converts an integer to bytes, then decodes to a string (ChatGPT 4o)\"\"\"\n",
    "    num_bytes = (n.bit_length() + 7) // 8 # Calculate number of bytes needed\n",
    "    return n.to_bytes(num_bytes, byteorder='big').decode('utf-8')\n",
    "\n",
    "# Optional: decrypt using custom private key\n",
    "# with open('private_key.txt', 'r') as file:\n",
    "#     n = int(file.readline())\n",
    "#     d = int(file.readline())\n",
    "\n",
    "# Optional: paste in an encrypted message you received\n",
    "# Otherwise you will decrypt the message you wrote to yourself in the previous block\n",
    "# C = 12345678\n",
    "\n",
    "# decrypt\n",
    "M = pow(C, d, n)\n",
    "\n",
    "# convert back to string\n",
    "message = number_to_string(M)\n",
    "\n",
    "print(f'The encrypted message is:\\n')\n",
    "print(f'C = {C}\\n')\n",
    "print(f'The decrypted message, M = C^d mod n:\\n')\n",
    "print(f'M = {M}\\n')\n",
    "print(f'The decrypted message as a string:\\n')\n",
    "print(f'\"{message}\"\\n')\n"
   ]
  },
  {
   "cell_type": "markdown",
   "id": "b3180817-5c96-4bb9-98db-40f017564db4",
   "metadata": {},
   "source": [
    "### 9. Encrypt a secret message for someone else\n",
    "This is the same code that you used to encrypt a message to yourself above, except that you will paste in someone else's public key.\n",
    "\n",
    "This is the public key for Dr. Knights:\n",
    "\n",
    "e_other = 65537<br>\n",
    "n_other = 16052500398659329557872898260024975868401124055174525079599211974131854224035445932189370402168332902231009331998237678967487756461871402313439899527755454996809035033887803250153742291910411954565331998376537321837622984168021551303915005847167115965384925400205086491366616692373809117179930788565969767733\n",
    "<br>\n",
    "<br>"
   ]
  },
  {
   "cell_type": "code",
   "execution_count": null,
   "id": "c847c772-dd9a-4480-8ea0-0d627dd9e0ad",
   "metadata": {},
   "outputs": [],
   "source": [
    "def string_to_number(s):\n",
    "    \"\"\" Converts a string to bytes and then to integer (ChatGPT 4o)\"\"\"\n",
    "    return int.from_bytes(s.encode('utf-8'), byteorder='big')\n",
    "\n",
    "# paste in the user's public exponent and modulus\n",
    "# For demonstration, we are using Dr. Knights's public key from above.\n",
    "# We call these \"e_other\" and \"n_other\" so we don't overwrite our own key.\n",
    "e_other = 65537\n",
    "n_other = 16052500398659329557872898260024975868401124055174525079599211974131854224035445932189370402168332902231009331998237678967487756461871402313439899527755454996809035033887803250153742291910411954565331998376537321837622984168021551303915005847167115965384925400205086491366616692373809117179930788565969767733\n",
    "\n",
    "# Enter a message that you want to send\n",
    "M = string_to_number(\"This is a secret message to Dr. Knights!\") # convert the message to a number\n",
    "\n",
    "# Check that M is less than n\n",
    "if M >= n:\n",
    "    raise ValueError(\"Message too long! M must be less than n.\")\n",
    "\n",
    "# encrypt\n",
    "C = pow(M, e_other, n_other)\n",
    "\n",
    "print(f'The unencrypted message is:\\n')\n",
    "print(f'M = {M}\\n')\n",
    "print(f'The encrypted message, M^e mod n:\\n')\n",
    "print(f'C = {C}\\n')"
   ]
  },
  {
   "cell_type": "markdown",
   "id": "b83f97bb-c916-422c-890c-c52174e90a3e",
   "metadata": {},
   "source": [
    "### 10. Send a message to your neighbor\n",
    "1. Post your public key on Discord #lecture by copying and pasting it from above. For example, \n",
    "\n",
    "My public key is:\n",
    "<br>\n",
    "e = 65537\n",
    "<br>\n",
    "n = 154318893170636813184278470691440061704918001755185902968811342375980897517595962101276159581677426496554119817567927262089535397985913049682132070374971891027920754953248998201670138931849985000175595132980405045097368994677534288207813812976948913524193478662973887829807375076111829846908418182627042156381\n",
    "<br>\n",
    "\n",
    "2. Find your neighbor's public key and use it to encrypt a message to them using block 9 above. Send them a recommendation for a book, show, movie, local restaurant, or something you purchased recently that you found very useful. Just keep it safe for work. You can post the message right in the `#lecture` channel, because it is encrypted.\n",
    "<br>\n",
    "<br>\n",
    "3. If you received a message C from your neighbor, copy it into Block 8 above to decrypt it.\n",
    "<br>\n",
    "<br>\n",
    "4. If you have extra time, send a reply!\n",
    "<br>\n",
    "<br>"
   ]
  }
 ],
 "metadata": {
  "kernelspec": {
   "display_name": "Python 3 (ipykernel)",
   "language": "python",
   "name": "python3"
  },
  "language_info": {
   "codemirror_mode": {
    "name": "ipython",
    "version": 3
   },
   "file_extension": ".py",
   "mimetype": "text/x-python",
   "name": "python",
   "nbconvert_exporter": "python",
   "pygments_lexer": "ipython3",
   "version": "3.13.0"
  }
 },
 "nbformat": 4,
 "nbformat_minor": 5
}

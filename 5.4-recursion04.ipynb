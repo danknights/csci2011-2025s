{
 "cells": [
  {
   "cell_type": "markdown",
   "id": "fa2ebb86-b014-4032-af80-05f5f0770d74",
   "metadata": {},
   "source": [
    "## 0. Run this setup code for Google colab"
   ]
  },
  {
   "cell_type": "markdown",
   "id": "d58f4915-e403-4714-b14a-9c3bebba01ef",
   "metadata": {},
   "source": [
    "⚠️ Please disable AI code suggestions in Google Colab:\n",
    "- Go to **Tools > Settings > Editor**\n",
    "  - Turn OFF \"Show context-powered code completions\"\n",
    "- Go to **AI Assistance**\n",
    "  - Turn OFF \"Enable AI-powered code completions\"\n",
    "- This helps you focus on writing and understanding code manually.\n",
    "- You can re-enable any time using the same steps."
   ]
  },
  {
   "cell_type": "code",
   "execution_count": 130,
   "id": "6d87359c-8dc4-4c9a-9fa0-2584ff8fe54b",
   "metadata": {},
   "outputs": [],
   "source": [
    "# initial setup necessary in Google colab\n",
    "try:\n",
    "    import google.colab\n",
    "    !pip install ipyturtle3\n",
    "    !pip install -U ipywidgets\n",
    "    from google.colab import output\n",
    "    output.enable_custom_widget_manager()\n",
    "except:\n",
    "    pass"
   ]
  },
  {
   "cell_type": "markdown",
   "id": "c81ec4cf-46c5-47fc-b3e5-dc9c83da448a",
   "metadata": {},
   "source": [
    "## 1. Implement factorial with recursion"
   ]
  },
  {
   "cell_type": "code",
   "execution_count": null,
   "id": "c1514c10-f1e0-47c1-8b22-5f44fa756cae",
   "metadata": {},
   "outputs": [],
   "source": [
    "# Implement factorial using a loop\n",
    "def factorial_with_loop(n):\n",
    "    result = 1\n",
    "    for i in range(1, n+1):\n",
    "        result = result * i\n",
    "    return result\n",
    "\n",
    "# Implement factorial using recursion\n",
    "def factorial_with_recursion(n):\n",
    "    # base case (stop recursing)\n",
    "    if n == 1:\n",
    "        print(f\"Base case, n = {n}.\")\n",
    "        return # FINISH THIS LINE\n",
    "    else:\n",
    "        print(f\"Recursing, n = {n}.\")\n",
    "        return # FINISH THIS LINE\n",
    "\n",
    "print(f\"\\nFactorial with a loop:\")\n",
    "print(factorial_with_loop(6))\n",
    "\n",
    "print(f\"\\nFactorial with recursion:\")\n",
    "print(factorial_with_recursion(6))"
   ]
  },
  {
   "cell_type": "markdown",
   "id": "121f9e50-236f-4271-8d74-2e90f70e1954",
   "metadata": {},
   "source": [
    "## 2. Draw a spiral recursively"
   ]
  },
  {
   "cell_type": "code",
   "execution_count": 16,
   "id": "059606cc-2f6d-4d25-b3fa-7aaa0b229eb0",
   "metadata": {},
   "outputs": [
    {
     "data": {
      "application/vnd.jupyter.widget-view+json": {
       "model_id": "57a9df1f2f5d4b938f104ac2eff2309d",
       "version_major": 2,
       "version_minor": 0
      },
      "text/plain": [
       "Canvas(width=500)"
      ]
     },
     "metadata": {},
     "output_type": "display_data"
    }
   ],
   "source": [
    "import ipyturtle3 as turtle # turtle version that works in notebooks\n",
    "\n",
    "# Set up turtle implementation for Jupyter notebooks\n",
    "# Note: if not inside a notebook, you would just run:\n",
    "# import turtle\n",
    "# t = turtle.Turtle()\n",
    "def get_turtle(width=500,height=500):\n",
    "    myCanvas = turtle.Canvas(width,height)\n",
    "    display(myCanvas)\n",
    "    myTurtleScreen = turtle.TurtleScreen(myCanvas)\n",
    "    return turtle.Turtle(myTurtleScreen)\n",
    "\n",
    "# Implement a spiral\n",
    "def draw_spiral(my_turtle, length):\n",
    "    if length < 5:  # base case\n",
    "        return\n",
    "    my_turtle.forward(length)\n",
    "    my_turtle.right(20)\n",
    "    \n",
    "    # recursive step\n",
    "    # COMPLETE THIS LINE\n",
    "\n",
    "t = get_turtle()\n",
    "draw_spiral(t, 50)"
   ]
  },
  {
   "cell_type": "markdown",
   "id": "c36bfda1-b5fc-47ae-b163-25e1c91c3c9c",
   "metadata": {},
   "source": [
    "## 3. Draw a Minkowski curve"
   ]
  },
  {
   "cell_type": "code",
   "execution_count": 17,
   "id": "01e5a6b3-83dd-472a-ab71-edfcaebcbc59",
   "metadata": {},
   "outputs": [
    {
     "ename": "IndentationError",
     "evalue": "expected an indented block after 'if' statement on line 5 (4180703667.py, line 8)",
     "output_type": "error",
     "traceback": [
      "\u001b[0;36m  Cell \u001b[0;32mIn[17], line 8\u001b[0;36m\u001b[0m\n\u001b[0;31m    else:\u001b[0m\n\u001b[0m    ^\u001b[0m\n\u001b[0;31mIndentationError\u001b[0m\u001b[0;31m:\u001b[0m expected an indented block after 'if' statement on line 5\n"
     ]
    }
   ],
   "source": [
    "# draw a Minkowski curve\n",
    "def minkowski(t, length, depth):\n",
    "    \"\"\" Draws a minkowski curve\n",
    "    \"\"\"\n",
    "    if depth == 0:\n",
    "        # base case:\n",
    "        # FILL THIS IN\n",
    "    else:\n",
    "        # recursively draw the curve\n",
    "        # FILL THIS IN\n",
    "\n",
    "t = get_turtle()\n",
    "t.speed(0)\n",
    "t.up(); t.goto(-200, 0); t.down()\n",
    "minkowski(t, 400, 0)\n",
    "t.hideturtle()\n"
   ]
  },
  {
   "cell_type": "code",
   "execution_count": null,
   "id": "37d57928-7c09-4292-a332-1abb6bd08825",
   "metadata": {},
   "outputs": [],
   "source": [
    "# Level 1 curve\n",
    "t = get_turtle()\n",
    "t.speed(0)\n",
    "t.up(); t.goto(-200, 0); t.down()\n",
    "minkowski(t, 400, 1)\n",
    "t.hideturtle()"
   ]
  },
  {
   "cell_type": "code",
   "execution_count": 5,
   "id": "c41f0e11-d4f4-4bcf-8c58-46ed267b9a1b",
   "metadata": {},
   "outputs": [
    {
     "data": {
      "application/vnd.jupyter.widget-view+json": {
       "model_id": "88353d88721b4f95b4ff95249ca14b91",
       "version_major": 2,
       "version_minor": 0
      },
      "text/plain": [
       "Canvas(width=500)"
      ]
     },
     "metadata": {},
     "output_type": "display_data"
    },
    {
     "ename": "NameError",
     "evalue": "name 'minkowski' is not defined",
     "output_type": "error",
     "traceback": [
      "\u001b[0;31m---------------------------------------------------------------------------\u001b[0m",
      "\u001b[0;31mNameError\u001b[0m                                 Traceback (most recent call last)",
      "Cell \u001b[0;32mIn[5], line 5\u001b[0m\n\u001b[1;32m      3\u001b[0m t\u001b[38;5;241m.\u001b[39mspeed(\u001b[38;5;241m0\u001b[39m)\n\u001b[1;32m      4\u001b[0m t\u001b[38;5;241m.\u001b[39mup(); t\u001b[38;5;241m.\u001b[39mgoto(\u001b[38;5;241m-\u001b[39m\u001b[38;5;241m200\u001b[39m, \u001b[38;5;241m0\u001b[39m); t\u001b[38;5;241m.\u001b[39mdown()\n\u001b[0;32m----> 5\u001b[0m \u001b[43mminkowski\u001b[49m(t, \u001b[38;5;241m400\u001b[39m, \u001b[38;5;241m2\u001b[39m)\n\u001b[1;32m      6\u001b[0m t\u001b[38;5;241m.\u001b[39mhideturtle()\n",
      "\u001b[0;31mNameError\u001b[0m: name 'minkowski' is not defined"
     ]
    }
   ],
   "source": [
    "# Level 2 curve\n",
    "t = get_turtle()\n",
    "t.speed(0)\n",
    "t.up(); t.goto(-200, 0); t.down()\n",
    "minkowski(t, 400, 2)\n",
    "t.hideturtle()"
   ]
  },
  {
   "cell_type": "code",
   "execution_count": 6,
   "id": "15359bb4-8826-4bdf-9874-7ced3f6de6a9",
   "metadata": {},
   "outputs": [
    {
     "data": {
      "application/vnd.jupyter.widget-view+json": {
       "model_id": "14c3952cc16f404785910dd122e2766e",
       "version_major": 2,
       "version_minor": 0
      },
      "text/plain": [
       "Canvas(width=500)"
      ]
     },
     "metadata": {},
     "output_type": "display_data"
    },
    {
     "ename": "NameError",
     "evalue": "name 'minkowski' is not defined",
     "output_type": "error",
     "traceback": [
      "\u001b[0;31m---------------------------------------------------------------------------\u001b[0m",
      "\u001b[0;31mNameError\u001b[0m                                 Traceback (most recent call last)",
      "Cell \u001b[0;32mIn[6], line 5\u001b[0m\n\u001b[1;32m      3\u001b[0m t\u001b[38;5;241m.\u001b[39mup(); t\u001b[38;5;241m.\u001b[39mgoto(\u001b[38;5;241m-\u001b[39m\u001b[38;5;241m200\u001b[39m, \u001b[38;5;241m0\u001b[39m); t\u001b[38;5;241m.\u001b[39mdown()\n\u001b[1;32m      4\u001b[0m t\u001b[38;5;241m.\u001b[39mcolor(\u001b[38;5;124m'\u001b[39m\u001b[38;5;124m#bbbbbb\u001b[39m\u001b[38;5;124m'\u001b[39m)\n\u001b[0;32m----> 5\u001b[0m \u001b[43mminkowski\u001b[49m(t, \u001b[38;5;241m400\u001b[39m, \u001b[38;5;241m1\u001b[39m)\n\u001b[1;32m      6\u001b[0m t\u001b[38;5;241m.\u001b[39mcolor(\u001b[38;5;124m'\u001b[39m\u001b[38;5;124m#777777\u001b[39m\u001b[38;5;124m'\u001b[39m)\n\u001b[1;32m      7\u001b[0m t\u001b[38;5;241m.\u001b[39mup(); t\u001b[38;5;241m.\u001b[39mgoto(\u001b[38;5;241m-\u001b[39m\u001b[38;5;241m200\u001b[39m, \u001b[38;5;241m0\u001b[39m); t\u001b[38;5;241m.\u001b[39mdown()\n",
      "\u001b[0;31mNameError\u001b[0m: name 'minkowski' is not defined"
     ]
    }
   ],
   "source": [
    "# Level 1, 2, 3 curves superimposed\n",
    "t = get_turtle()\n",
    "t.up(); t.goto(-200, 0); t.down()\n",
    "t.color('#bbbbbb')\n",
    "minkowski(t, 400, 1)\n",
    "t.color('#777777')\n",
    "t.up(); t.goto(-200, 0); t.down()\n",
    "minkowski(t, 400, 2)\n",
    "t.color('#111111')\n",
    "t.up(); t.goto(-200, 0); t.down()\n",
    "minkowski(t, 400, 3)\n",
    "t.hideturtle()"
   ]
  },
  {
   "cell_type": "markdown",
   "id": "27110176-06e0-44a3-9067-66e9be2efebf",
   "metadata": {},
   "source": [
    "## 4. Draw a Sierpinski carpet, using absolute coordinates\n",
    "Note: here we will use absolute coordinates. This is a bit easier conceptually, but sometimes less powerful."
   ]
  },
  {
   "cell_type": "code",
   "execution_count": 7,
   "id": "f7e2c691-9089-470b-82d2-4c860f07dcbd",
   "metadata": {},
   "outputs": [
    {
     "data": {
      "application/vnd.jupyter.widget-view+json": {
       "model_id": "d10e3462618c43d69cf7908443861d3c",
       "version_major": 2,
       "version_minor": 0
      },
      "text/plain": [
       "Canvas(width=500)"
      ]
     },
     "metadata": {},
     "output_type": "display_data"
    },
    {
     "ename": "KeyboardInterrupt",
     "evalue": "",
     "output_type": "error",
     "traceback": [
      "\u001b[0;31m---------------------------------------------------------------------------\u001b[0m",
      "\u001b[0;31mKeyboardInterrupt\u001b[0m                         Traceback (most recent call last)",
      "Cell \u001b[0;32mIn[7], line 37\u001b[0m\n\u001b[1;32m     34\u001b[0m t\u001b[38;5;241m.\u001b[39mspeed(\u001b[38;5;241m0\u001b[39m)\n\u001b[1;32m     36\u001b[0m \u001b[38;5;66;03m# Starting coordinates and size for the carpet (centered on screen)\u001b[39;00m\n\u001b[0;32m---> 37\u001b[0m \u001b[43msierpinski_carpet\u001b[49m\u001b[43m(\u001b[49m\u001b[43mt\u001b[49m\u001b[43m,\u001b[49m\u001b[43m \u001b[49m\u001b[38;5;241;43m-\u001b[39;49m\u001b[38;5;241;43m200\u001b[39;49m\u001b[43m,\u001b[49m\u001b[43m \u001b[49m\u001b[38;5;241;43m200\u001b[39;49m\u001b[43m,\u001b[49m\u001b[43m \u001b[49m\u001b[43msize\u001b[49m\u001b[38;5;241;43m=\u001b[39;49m\u001b[38;5;241;43m400\u001b[39;49m\u001b[43m,\u001b[49m\u001b[43m \u001b[49m\u001b[43mdepth\u001b[49m\u001b[38;5;241;43m=\u001b[39;49m\u001b[38;5;241;43m2\u001b[39;49m\u001b[43m)\u001b[49m\n\u001b[1;32m     38\u001b[0m t\u001b[38;5;241m.\u001b[39mhideturtle()\n",
      "Cell \u001b[0;32mIn[7], line 27\u001b[0m, in \u001b[0;36msierpinski_carpet\u001b[0;34m(myturtle, x, y, size, depth)\u001b[0m\n\u001b[1;32m     25\u001b[0m new_x \u001b[38;5;241m=\u001b[39m x \u001b[38;5;241m+\u001b[39m j \u001b[38;5;241m*\u001b[39m size\u001b[38;5;241m/\u001b[39m\u001b[38;5;241m3\u001b[39m\n\u001b[1;32m     26\u001b[0m new_y \u001b[38;5;241m=\u001b[39m y \u001b[38;5;241m-\u001b[39m i \u001b[38;5;241m*\u001b[39m size\u001b[38;5;241m/\u001b[39m\u001b[38;5;241m3\u001b[39m\n\u001b[0;32m---> 27\u001b[0m \u001b[43msierpinski_carpet\u001b[49m\u001b[43m(\u001b[49m\u001b[43mmyturtle\u001b[49m\u001b[43m,\u001b[49m\u001b[43m \u001b[49m\u001b[43mnew_x\u001b[49m\u001b[43m,\u001b[49m\u001b[43m \u001b[49m\u001b[43mnew_y\u001b[49m\u001b[43m,\u001b[49m\u001b[43m \u001b[49m\u001b[43msize\u001b[49m\u001b[38;5;241;43m/\u001b[39;49m\u001b[38;5;241;43m3\u001b[39;49m\u001b[43m,\u001b[49m\u001b[43m \u001b[49m\u001b[43mdepth\u001b[49m\u001b[43m \u001b[49m\u001b[38;5;241;43m-\u001b[39;49m\u001b[43m \u001b[49m\u001b[38;5;241;43m1\u001b[39;49m\u001b[43m)\u001b[49m\n",
      "Cell \u001b[0;32mIn[7], line 27\u001b[0m, in \u001b[0;36msierpinski_carpet\u001b[0;34m(myturtle, x, y, size, depth)\u001b[0m\n\u001b[1;32m     25\u001b[0m new_x \u001b[38;5;241m=\u001b[39m x \u001b[38;5;241m+\u001b[39m j \u001b[38;5;241m*\u001b[39m size\u001b[38;5;241m/\u001b[39m\u001b[38;5;241m3\u001b[39m\n\u001b[1;32m     26\u001b[0m new_y \u001b[38;5;241m=\u001b[39m y \u001b[38;5;241m-\u001b[39m i \u001b[38;5;241m*\u001b[39m size\u001b[38;5;241m/\u001b[39m\u001b[38;5;241m3\u001b[39m\n\u001b[0;32m---> 27\u001b[0m \u001b[43msierpinski_carpet\u001b[49m\u001b[43m(\u001b[49m\u001b[43mmyturtle\u001b[49m\u001b[43m,\u001b[49m\u001b[43m \u001b[49m\u001b[43mnew_x\u001b[49m\u001b[43m,\u001b[49m\u001b[43m \u001b[49m\u001b[43mnew_y\u001b[49m\u001b[43m,\u001b[49m\u001b[43m \u001b[49m\u001b[43msize\u001b[49m\u001b[38;5;241;43m/\u001b[39;49m\u001b[38;5;241;43m3\u001b[39;49m\u001b[43m,\u001b[49m\u001b[43m \u001b[49m\u001b[43mdepth\u001b[49m\u001b[43m \u001b[49m\u001b[38;5;241;43m-\u001b[39;49m\u001b[43m \u001b[49m\u001b[38;5;241;43m1\u001b[39;49m\u001b[43m)\u001b[49m\n",
      "Cell \u001b[0;32mIn[7], line 18\u001b[0m, in \u001b[0;36msierpinski_carpet\u001b[0;34m(myturtle, x, y, size, depth)\u001b[0m\n\u001b[1;32m     13\u001b[0m \u001b[38;5;250m\u001b[39m\u001b[38;5;124;03m\"\"\"\u001b[39;00m\n\u001b[1;32m     14\u001b[0m \u001b[38;5;124;03mRecursively draws a Sierpinski carpet.    \u001b[39;00m\n\u001b[1;32m     15\u001b[0m \u001b[38;5;124;03m\"\"\"\u001b[39;00m\n\u001b[1;32m     16\u001b[0m \u001b[38;5;28;01mif\u001b[39;00m depth \u001b[38;5;241m==\u001b[39m \u001b[38;5;241m0\u001b[39m:\n\u001b[1;32m     17\u001b[0m     \u001b[38;5;66;03m# base case: draw a black square\u001b[39;00m\n\u001b[0;32m---> 18\u001b[0m     \u001b[43mdraw_square\u001b[49m\u001b[43m(\u001b[49m\u001b[43mmyturtle\u001b[49m\u001b[43m,\u001b[49m\u001b[43m \u001b[49m\u001b[43mx\u001b[49m\u001b[43m,\u001b[49m\u001b[43m \u001b[49m\u001b[43my\u001b[49m\u001b[43m,\u001b[49m\u001b[43m \u001b[49m\u001b[43msize\u001b[49m\u001b[43m)\u001b[49m\n\u001b[1;32m     19\u001b[0m \u001b[38;5;28;01melse\u001b[39;00m:\n\u001b[1;32m     20\u001b[0m     \u001b[38;5;66;03m# otherwise, draw 3x3 gride, skip the center\u001b[39;00m\n\u001b[1;32m     21\u001b[0m     \u001b[38;5;28;01mfor\u001b[39;00m i \u001b[38;5;129;01min\u001b[39;00m \u001b[38;5;28mrange\u001b[39m(\u001b[38;5;241m3\u001b[39m):\n",
      "Cell \u001b[0;32mIn[7], line 5\u001b[0m, in \u001b[0;36mdraw_square\u001b[0;34m(myturtle, x, y, size)\u001b[0m\n\u001b[1;32m      3\u001b[0m myturtle\u001b[38;5;241m.\u001b[39mup()\n\u001b[1;32m      4\u001b[0m myturtle\u001b[38;5;241m.\u001b[39mgoto(x, y)\n\u001b[0;32m----> 5\u001b[0m \u001b[43mmyturtle\u001b[49m\u001b[38;5;241;43m.\u001b[39;49m\u001b[43mdown\u001b[49m\u001b[43m(\u001b[49m\u001b[43m)\u001b[49m\n\u001b[1;32m      6\u001b[0m myturtle\u001b[38;5;241m.\u001b[39mbegin_fill()\n\u001b[1;32m      7\u001b[0m \u001b[38;5;28;01mfor\u001b[39;00m i \u001b[38;5;129;01min\u001b[39;00m \u001b[38;5;28mrange\u001b[39m(\u001b[38;5;241m4\u001b[39m):\n",
      "File \u001b[0;32m~/miniconda3/envs/jupyter/lib/python3.13/turtle.py:2119\u001b[0m, in \u001b[0;36mTPen.pendown\u001b[0;34m(self)\u001b[0m\n\u001b[1;32m   2117\u001b[0m \u001b[38;5;28;01mif\u001b[39;00m \u001b[38;5;28mself\u001b[39m\u001b[38;5;241m.\u001b[39m_drawing:\n\u001b[1;32m   2118\u001b[0m     \u001b[38;5;28;01mreturn\u001b[39;00m\n\u001b[0;32m-> 2119\u001b[0m \u001b[38;5;28;43mself\u001b[39;49m\u001b[38;5;241;43m.\u001b[39;49m\u001b[43mpen\u001b[49m\u001b[43m(\u001b[49m\u001b[43mpendown\u001b[49m\u001b[38;5;241;43m=\u001b[39;49m\u001b[38;5;28;43;01mTrue\u001b[39;49;00m\u001b[43m)\u001b[49m\n",
      "File \u001b[0;32m~/miniconda3/envs/jupyter/lib/python3.13/turtle.py:2466\u001b[0m, in \u001b[0;36mTPen.pen\u001b[0;34m(self, pen, **pendict)\u001b[0m\n\u001b[1;32m   2463\u001b[0m     sa, ca \u001b[38;5;241m=\u001b[39m math\u001b[38;5;241m.\u001b[39msin(\u001b[38;5;28mself\u001b[39m\u001b[38;5;241m.\u001b[39m_tilt), math\u001b[38;5;241m.\u001b[39mcos(\u001b[38;5;28mself\u001b[39m\u001b[38;5;241m.\u001b[39m_tilt)\n\u001b[1;32m   2464\u001b[0m     \u001b[38;5;28mself\u001b[39m\u001b[38;5;241m.\u001b[39m_shapetrafo \u001b[38;5;241m=\u001b[39m ( scx\u001b[38;5;241m*\u001b[39mca, scy\u001b[38;5;241m*\u001b[39m(shf\u001b[38;5;241m*\u001b[39mca \u001b[38;5;241m+\u001b[39m sa),\n\u001b[1;32m   2465\u001b[0m                         \u001b[38;5;241m-\u001b[39mscx\u001b[38;5;241m*\u001b[39msa, scy\u001b[38;5;241m*\u001b[39m(ca \u001b[38;5;241m-\u001b[39m shf\u001b[38;5;241m*\u001b[39msa))\n\u001b[0;32m-> 2466\u001b[0m \u001b[38;5;28;43mself\u001b[39;49m\u001b[38;5;241;43m.\u001b[39;49m\u001b[43m_update\u001b[49m\u001b[43m(\u001b[49m\u001b[43m)\u001b[49m\n",
      "File \u001b[0;32m~/miniconda3/envs/jupyter/lib/python3.13/turtle.py:2670\u001b[0m, in \u001b[0;36mRawTurtle._update\u001b[0;34m(self)\u001b[0m\n\u001b[1;32m   2668\u001b[0m     \u001b[38;5;28mself\u001b[39m\u001b[38;5;241m.\u001b[39m_drawturtle()\n\u001b[1;32m   2669\u001b[0m     screen\u001b[38;5;241m.\u001b[39m_update()                  \u001b[38;5;66;03m# TurtleScreenBase\u001b[39;00m\n\u001b[0;32m-> 2670\u001b[0m     \u001b[43mscreen\u001b[49m\u001b[38;5;241;43m.\u001b[39;49m\u001b[43m_delay\u001b[49m\u001b[43m(\u001b[49m\u001b[43mscreen\u001b[49m\u001b[38;5;241;43m.\u001b[39;49m\u001b[43m_delayvalue\u001b[49m\u001b[43m)\u001b[49m \u001b[38;5;66;03m# TurtleScreenBase\u001b[39;00m\n\u001b[1;32m   2671\u001b[0m \u001b[38;5;28;01melse\u001b[39;00m:\n\u001b[1;32m   2672\u001b[0m     \u001b[38;5;28mself\u001b[39m\u001b[38;5;241m.\u001b[39m_update_data()\n",
      "File \u001b[0;32m~/miniconda3/envs/jupyter/lib/python3.13/turtle.py:559\u001b[0m, in \u001b[0;36mTurtleScreenBase._delay\u001b[0;34m(self, delay)\u001b[0m\n\u001b[1;32m    557\u001b[0m \u001b[38;5;28;01mdef\u001b[39;00m \u001b[38;5;21m_delay\u001b[39m(\u001b[38;5;28mself\u001b[39m, delay):\n\u001b[1;32m    558\u001b[0m \u001b[38;5;250m    \u001b[39m\u001b[38;5;124;03m\"\"\"Delay subsequent canvas actions for delay ms.\"\"\"\u001b[39;00m\n\u001b[0;32m--> 559\u001b[0m     \u001b[38;5;28;43mself\u001b[39;49m\u001b[38;5;241;43m.\u001b[39;49m\u001b[43mcv\u001b[49m\u001b[38;5;241;43m.\u001b[39;49m\u001b[43mafter\u001b[49m\u001b[43m(\u001b[49m\u001b[43mdelay\u001b[49m\u001b[43m)\u001b[49m\n",
      "File \u001b[0;32m~/miniconda3/envs/jupyter/lib/python3.13/site-packages/ipyturtle3/ipyturtle3.py:168\u001b[0m, in \u001b[0;36mCanvas.after\u001b[0;34m(self, ms)\u001b[0m\n\u001b[1;32m    166\u001b[0m \u001b[38;5;28;01mdef\u001b[39;00m \u001b[38;5;21mafter\u001b[39m(\u001b[38;5;28mself\u001b[39m,ms):\n\u001b[0;32m--> 168\u001b[0m     \u001b[43mtime\u001b[49m\u001b[38;5;241;43m.\u001b[39;49m\u001b[43msleep\u001b[49m\u001b[43m(\u001b[49m\u001b[43mms\u001b[49m\u001b[38;5;241;43m*\u001b[39;49m\u001b[38;5;241;43m0.001\u001b[39;49m\u001b[43m)\u001b[49m\n",
      "\u001b[0;31mKeyboardInterrupt\u001b[0m: "
     ]
    }
   ],
   "source": [
    "def draw_square(myturtle, x, y, size):\n",
    "    \"\"\"Draws a filled square at (x, y).\"\"\"\n",
    "    myturtle.up()\n",
    "    myturtle.goto(x, y)\n",
    "    myturtle.down()\n",
    "    myturtle.begin_fill()\n",
    "    for i in range(4):\n",
    "        myturtle.forward(size)\n",
    "        myturtle.left(90)\n",
    "    myturtle.end_fill()\n",
    "\n",
    "def sierpinski_carpet(myturtle, x, y, size, depth):\n",
    "    \"\"\"\n",
    "    Recursively draws a Sierpinski carpet.    \n",
    "    \"\"\"\n",
    "    if depth == 0:\n",
    "        # base case: draw a black square\n",
    "        draw_square(myturtle, x, y, size)\n",
    "    else:\n",
    "        # otherwise, draw 3x3 gride, skip the center\n",
    "        for i in range(3):\n",
    "            for j in range(3):\n",
    "                if i == 1 and j == 1:  # Skip the center square\n",
    "                    continue\n",
    "                new_x = x + j * size/3\n",
    "                new_y = y - i * size/3\n",
    "                sierpinski_carpet(myturtle, new_x, new_y, size/3, depth - 1)\n",
    "\n",
    "# Setup the turtle environment\n",
    "myCanvas = turtle.Canvas(500, 500)\n",
    "display(myCanvas)\n",
    "myTurtleScreen = turtle.TurtleScreen(myCanvas)\n",
    "t = turtle.Turtle(myTurtleScreen)\n",
    "t.speed(0)\n",
    "\n",
    "# Starting coordinates and size for the carpet (centered on screen)\n",
    "sierpinski_carpet(t, -200, 200, size=400, depth=2)\n",
    "t.hideturtle()\n"
   ]
  },
  {
   "cell_type": "markdown",
   "id": "9fe441f9-4552-4004-8315-3703e07596db",
   "metadata": {},
   "source": [
    "## 5. Draw a Sierpinski carpet, using relative coordinates\n",
    "Note: here we will use relative coordinates. This can be extremely powerful for recursion that involves changing orientation."
   ]
  },
  {
   "cell_type": "code",
   "execution_count": null,
   "id": "3f52c80c-869b-496a-bb14-05f70473d9e2",
   "metadata": {},
   "outputs": [
    {
     "data": {
      "application/vnd.jupyter.widget-view+json": {
       "model_id": "f8441cc971e64561b87ebb05a5524709",
       "version_major": 2,
       "version_minor": 0
      },
      "text/plain": [
       "Canvas(height=600, width=600)"
      ]
     },
     "metadata": {},
     "output_type": "display_data"
    }
   ],
   "source": [
    "def draw_square(t, size):\n",
    "    \"\"\"Draws a filled square of given size.\"\"\"\n",
    "    t.begin_fill()\n",
    "    for i in range(4):\n",
    "        t.forward(size)\n",
    "        t.right(90)\n",
    "    t.end_fill()\n",
    "\n",
    "def sierpinski_carpet(t, size, depth):\n",
    "    \"\"\"\n",
    "    Recursively draws a Sierpinski carpet.   \n",
    "\n",
    "    t is the turtle object\n",
    "    \"\"\"\n",
    "    if depth == 0:\n",
    "        # base case: draw a black square\n",
    "        draw_square(t, size)\n",
    "    else:\n",
    "        # otherwise, draw the first 2 sub-carpets recursively\n",
    "        # then turn right, repeat\n",
    "        for i in range(4):\n",
    "            sierpinski_carpet(t, size/3, depth - 1)\n",
    "            t.fd(size/3)\n",
    "            sierpinski_carpet(t, size/3, depth - 1)\n",
    "            t.fd(size*2/3); t.right(90)\n",
    "\n",
    "t = get_turtle(600,600)\n",
    "t.speed(0)\n",
    "t.pensize(1)\n",
    "t.up(); t.goto(-250, 250); t.down()\n",
    "\n",
    "# Starting coordinates and size for the carpet (centered on screen)\n",
    "sierpinski_carpet(t, size=500, depth=4)\n",
    "t.hideturtle()"
   ]
  },
  {
   "cell_type": "code",
   "execution_count": null,
   "id": "0534b1bd-ca16-40b0-b0e0-f3074d81b7ee",
   "metadata": {},
   "outputs": [],
   "source": []
  }
 ],
 "metadata": {
  "kernelspec": {
   "display_name": "Python 3 (ipykernel)",
   "language": "python",
   "name": "python3"
  },
  "language_info": {
   "codemirror_mode": {
    "name": "ipython",
    "version": 3
   },
   "file_extension": ".py",
   "mimetype": "text/x-python",
   "name": "python",
   "nbconvert_exporter": "python",
   "pygments_lexer": "ipython3",
   "version": "3.13.0"
  }
 },
 "nbformat": 4,
 "nbformat_minor": 5
}

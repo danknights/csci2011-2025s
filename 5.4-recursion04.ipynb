{
  "cells": [
    {
      "cell_type": "markdown",
      "id": "fa2ebb86-b014-4032-af80-05f5f0770d74",
      "metadata": {
        "id": "fa2ebb86-b014-4032-af80-05f5f0770d74"
      },
      "source": [
        "## 0. Run this setup code for Google colab"
      ]
    },
    {
      "cell_type": "markdown",
      "id": "d58f4915-e403-4714-b14a-9c3bebba01ef",
      "metadata": {
        "id": "d58f4915-e403-4714-b14a-9c3bebba01ef"
      },
      "source": [
        "⚠️ Please disable AI code suggestions in Google Colab:\n",
        "- Go to **Tools > Settings > Editor**\n",
        "  - Turn OFF \"Show context-powered code completions\"\n",
        "- Go to **AI Assistance**\n",
        "  - Turn OFF \"Enable AI-powered code completions\"\n",
        "- This helps you focus on writing and understanding code manually.\n",
        "- You can re-enable any time using the same steps."
      ]
    },
    {
      "cell_type": "code",
      "execution_count": null,
      "id": "6d87359c-8dc4-4c9a-9fa0-2584ff8fe54b",
      "metadata": {
        "id": "6d87359c-8dc4-4c9a-9fa0-2584ff8fe54b"
      },
      "outputs": [],
      "source": [
        "# initial setup necessary in Google colab\n",
        "try:\n",
        "    import google.colab\n",
        "    !pip install ipyturtle3\n",
        "    !pip install -U ipywidgets\n",
        "    from google.colab import output\n",
        "    output.enable_custom_widget_manager()\n",
        "except:\n",
        "    pass"
      ]
    },
    {
      "cell_type": "markdown",
      "id": "c81ec4cf-46c5-47fc-b3e5-dc9c83da448a",
      "metadata": {
        "id": "c81ec4cf-46c5-47fc-b3e5-dc9c83da448a"
      },
      "source": [
        "## 1. Implement factorial with recursion"
      ]
    },
    {
      "cell_type": "code",
      "execution_count": null,
      "id": "c1514c10-f1e0-47c1-8b22-5f44fa756cae",
      "metadata": {
        "id": "c1514c10-f1e0-47c1-8b22-5f44fa756cae"
      },
      "outputs": [],
      "source": [
        "# Implement factorial using a loop\n",
        "def factorial_with_loop(n):\n",
        "    result = 1\n",
        "    for i in range(1, n+1):\n",
        "        result = result * i\n",
        "    return result\n",
        "\n",
        "# Implement factorial using recursion\n",
        "def factorial_with_recursion(n):\n",
        "    # base case (stop recursing)\n",
        "    if n == 1:\n",
        "        print(f\"Base case, n = {n}.\")\n",
        "        return # FINISH THIS LINE\n",
        "    else:\n",
        "        print(f\"Recursing, n = {n}.\")\n",
        "        return # FINISH THIS LINE\n",
        "\n",
        "print(f\"\\nFactorial with a loop:\")\n",
        "print(factorial_with_loop(6))\n",
        "\n",
        "print(f\"\\nFactorial with recursion:\")\n",
        "print(factorial_with_recursion(6))"
      ]
    },
    {
      "cell_type": "markdown",
      "id": "121f9e50-236f-4271-8d74-2e90f70e1954",
      "metadata": {
        "id": "121f9e50-236f-4271-8d74-2e90f70e1954"
      },
      "source": [
        "## 2. Draw a spiral recursively"
      ]
    },
    {
      "cell_type": "code",
      "execution_count": null,
      "id": "059606cc-2f6d-4d25-b3fa-7aaa0b229eb0",
      "metadata": {
        "id": "059606cc-2f6d-4d25-b3fa-7aaa0b229eb0"
      },
      "outputs": [],
      "source": [
        "import ipyturtle3 as turtle # turtle version that works in notebooks\n",
        "\n",
        "# Set up turtle implementation for Jupyter notebooks\n",
        "# Note: if not inside a notebook, you would just run:\n",
        "# import turtle\n",
        "# t = turtle.Turtle()\n",
        "def get_turtle(width=500,height=500):\n",
        "    myCanvas = turtle.Canvas(width,height)\n",
        "    display(myCanvas)\n",
        "    tScreen = turtle.TurtleScreen(myCanvas)\n",
        "    return turtle.Turtle(tScreen)\n",
        "\n",
        "# Implement a spiral\n",
        "def draw_spiral(my_turtle, length):\n",
        "    if length < 5:  # base case\n",
        "        return\n",
        "    my_turtle.forward(length)\n",
        "    my_turtle.right(20)\n",
        "\n",
        "    # recursive step\n",
        "    # COMPLETE THIS LINE\n",
        "\n",
        "t = get_turtle()\n",
        "draw_spiral(t, 50)"
      ]
    },
    {
      "cell_type": "markdown",
      "id": "c36bfda1-b5fc-47ae-b163-25e1c91c3c9c",
      "metadata": {
        "id": "c36bfda1-b5fc-47ae-b163-25e1c91c3c9c"
      },
      "source": [
        "## 3. Draw a Minkowski curve"
      ]
    },
    {
      "cell_type": "code",
      "execution_count": null,
      "id": "01e5a6b3-83dd-472a-ab71-edfcaebcbc59",
      "metadata": {
        "id": "01e5a6b3-83dd-472a-ab71-edfcaebcbc59"
      },
      "outputs": [],
      "source": [
        "# draw a Minkowski curve\n",
        "def minkowski(t, length, depth):\n",
        "    \"\"\" Draws a minkowski curve\n",
        "    \"\"\"\n",
        "    if depth == 0:\n",
        "        # base case:\n",
        "        # FILL THIS IN\n",
        "    else:\n",
        "        # recursively draw the curve\n",
        "        # FILL THIS IN\n",
        "\n",
        "t = get_turtle()\n",
        "t.speed(0)\n",
        "t.up(); t.goto(-200, 0); t.down()\n",
        "minkowski(t, 400, 0)\n",
        "t.hideturtle()\n"
      ]
    },
    {
      "cell_type": "code",
      "execution_count": null,
      "id": "37d57928-7c09-4292-a332-1abb6bd08825",
      "metadata": {
        "id": "37d57928-7c09-4292-a332-1abb6bd08825"
      },
      "outputs": [],
      "source": [
        "# Level 1 curve\n",
        "t = get_turtle()\n",
        "t.speed(0)\n",
        "t.up(); t.goto(-200, 0); t.down()\n",
        "minkowski(t, 400, 1)\n",
        "t.hideturtle()"
      ]
    },
    {
      "cell_type": "code",
      "execution_count": null,
      "id": "c41f0e11-d4f4-4bcf-8c58-46ed267b9a1b",
      "metadata": {
        "id": "c41f0e11-d4f4-4bcf-8c58-46ed267b9a1b"
      },
      "outputs": [],
      "source": [
        "# Level 2 curve\n",
        "t = get_turtle()\n",
        "t.speed(0)\n",
        "t.up(); t.goto(-200, 0); t.down()\n",
        "minkowski(t, 400, 2)\n",
        "t.hideturtle()"
      ]
    },
    {
      "cell_type": "code",
      "execution_count": null,
      "id": "15359bb4-8826-4bdf-9874-7ced3f6de6a9",
      "metadata": {
        "id": "15359bb4-8826-4bdf-9874-7ced3f6de6a9"
      },
      "outputs": [],
      "source": [
        "# Level 1, 2, 3 curves superimposed\n",
        "t = get_turtle()\n",
        "t.up(); t.goto(-200, 0); t.down()\n",
        "t.color('#bbbbbb')\n",
        "minkowski(t, 400, 1)\n",
        "t.color('#777777')\n",
        "t.up(); t.goto(-200, 0); t.down()\n",
        "minkowski(t, 400, 2)\n",
        "t.color('#111111')\n",
        "t.up(); t.goto(-200, 0); t.down()\n",
        "minkowski(t, 400, 3)\n",
        "t.hideturtle()"
      ]
    },
    {
      "cell_type": "markdown",
      "id": "27110176-06e0-44a3-9067-66e9be2efebf",
      "metadata": {
        "id": "27110176-06e0-44a3-9067-66e9be2efebf"
      },
      "source": [
        "## 4. Draw a Sierpinski carpet, using absolute coordinates\n",
        "Note: here we will use absolute coordinates. This is a bit easier conceptually, but sometimes less powerful."
      ]
    },
    {
      "cell_type": "code",
      "execution_count": null,
      "id": "f7e2c691-9089-470b-82d2-4c860f07dcbd",
      "metadata": {
        "id": "f7e2c691-9089-470b-82d2-4c860f07dcbd"
      },
      "outputs": [],
      "source": [
        "def draw_square(t, x, y, size):\n",
        "    \"\"\"Draws a filled square at (x, y).\"\"\"\n",
        "    t.up()\n",
        "    t.goto(x, y)\n",
        "    t.down()\n",
        "    t.begin_fill()\n",
        "    for i in range(4):\n",
        "        t.forward(size)\n",
        "        t.left(90)\n",
        "    t.end_fill()\n",
        "\n",
        "def sierpinski_carpet(t, x, y, size, depth):\n",
        "    \"\"\"\n",
        "    Recursively draws a Sierpinski carpet.\n",
        "    \"\"\"\n",
        "    if depth == 0:\n",
        "        # base case: draw a black square\n",
        "        draw_square(t, x, y, size)\n",
        "    else:\n",
        "        # otherwise, draw 3x3 gride, skip the center\n",
        "        for i in range(3):\n",
        "            for j in range(3):\n",
        "                if i == 1 and j == 1:  # Skip the center square\n",
        "                    continue\n",
        "                new_x = x + j * size/3\n",
        "                new_y = y - i * size/3\n",
        "                sierpinski_carpet(t, new_x, new_y, size/3, depth - 1)\n",
        "\n",
        "# Setup the turtle environment\n",
        "myCanvas = turtle.Canvas(500, 500)\n",
        "display(myCanvas)\n",
        "tScreen = turtle.TurtleScreen(myCanvas)\n",
        "t = turtle.Turtle(tScreen)\n",
        "t.speed(0)\n",
        "\n",
        "# Starting coordinates and size for the carpet (centered on screen)\n",
        "sierpinski_carpet(t, -200, 200, size=400, depth=2)\n",
        "t.hideturtle()\n"
      ]
    },
    {
      "cell_type": "markdown",
      "id": "9fe441f9-4552-4004-8315-3703e07596db",
      "metadata": {
        "id": "9fe441f9-4552-4004-8315-3703e07596db"
      },
      "source": [
        "## 5. Draw a Sierpinski carpet, using relative coordinates\n",
        "Note: here we will use relative coordinates. This can be extremely powerful for recursion that involves changing orientation."
      ]
    },
    {
      "cell_type": "code",
      "execution_count": null,
      "id": "3f52c80c-869b-496a-bb14-05f70473d9e2",
      "metadata": {
        "id": "3f52c80c-869b-496a-bb14-05f70473d9e2"
      },
      "outputs": [],
      "source": [
        "def draw_square(t, size):\n",
        "    \"\"\"Draws a filled square of given size.\"\"\"\n",
        "    t.begin_fill()\n",
        "    for i in range(4):\n",
        "        t.forward(size)\n",
        "        t.right(90)\n",
        "    t.end_fill()\n",
        "\n",
        "def sierpinski_carpet(t, size, depth):\n",
        "    \"\"\"\n",
        "    Recursively draws a Sierpinski carpet.\n",
        "\n",
        "    t is the turtle object\n",
        "    \"\"\"\n",
        "    if depth == 0:\n",
        "        # base case: draw a black square\n",
        "        # To be completed...\n",
        "    else:\n",
        "        # otherwise, draw the first 2 sub-carpets recursively\n",
        "        # then turn right, repeat 3x\n",
        "        # To be completed...\n",
        "\n",
        "# Setup the turtle environment\n",
        "myCanvas = turtle.Canvas(500, 500)\n",
        "display(myCanvas)\n",
        "tScreen = turtle.TurtleScreen(myCanvas)\n",
        "t = turtle.Turtle(tScreen)\n",
        "t.speed(0)\n",
        "t.up(); t.goto(-200, 200); t.down()\n",
        "\n",
        "# Starting coordinates and size for the carpet (centered on screen)\n",
        "sierpinski_carpet(t, size=400, depth=2)\n"
      ]
    }
  ],
  "metadata": {
    "kernelspec": {
      "display_name": "Python 3 (ipykernel)",
      "language": "python",
      "name": "python3"
    },
    "language_info": {
      "codemirror_mode": {
        "name": "ipython",
        "version": 3
      },
      "file_extension": ".py",
      "mimetype": "text/x-python",
      "name": "python",
      "nbconvert_exporter": "python",
      "pygments_lexer": "ipython3",
      "version": "3.13.0"
    },
    "colab": {
      "provenance": []
    }
  },
  "nbformat": 4,
  "nbformat_minor": 5
}
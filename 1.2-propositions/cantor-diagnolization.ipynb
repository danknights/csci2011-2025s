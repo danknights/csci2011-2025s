{
 "cells": [
  {
   "cell_type": "code",
   "execution_count": 10,
   "id": "ce94c69e-aea5-44a9-aa54-379927353f34",
   "metadata": {},
   "outputs": [
    {
     "data": {
      "text/plain": [
       "(2, 0)"
      ]
     },
     "execution_count": 10,
     "metadata": {},
     "output_type": "execute_result"
    }
   ],
   "source": [
    "# Implementation of Cantor's diagonalization\n",
    "def get_cantor_index(n):\n",
    "    \"\"\"Maps counting numbers 1, 2, 3 to the correct row, colum\n",
    "       of Cantor's matrix\n",
    "\n",
    "       This is an iterative solution, not closed form\n",
    "       (therefore highly inefficient)\n",
    "    \"\"\"\n",
    "    # Keep track of which diagonal we are on (first, second, third)\n",
    "    # This also gives us the desired sum of the indices\n",
    "    # Assume row/column indices are 0-indexed\n",
    "    D = 1\n",
    "    counter = 1 # will count up to n\n",
    "    while True:\n",
    "        # all possible row values on this diagonal\n",
    "        # The Dth diagonal as D values\n",
    "        for i in range(D):\n",
    "            if counter == n:\n",
    "                # If we have reached the desired n, return the indices\n",
    "                # j will be the column for the given row in this diagonal\n",
    "                j = D - i - 1 \n",
    "                return (i, j)\n",
    "            counter += 1\n",
    "        D = D + 1\n",
    "\n",
    "# example\n",
    "get_cantor_index(6)\n"
   ]
  }
 ],
 "metadata": {
  "kernelspec": {
   "display_name": "Python 3 (ipykernel)",
   "language": "python",
   "name": "python3"
  },
  "language_info": {
   "codemirror_mode": {
    "name": "ipython",
    "version": 3
   },
   "file_extension": ".py",
   "mimetype": "text/x-python",
   "name": "python",
   "nbconvert_exporter": "python",
   "pygments_lexer": "ipython3",
   "version": "3.13.0"
  }
 },
 "nbformat": 4,
 "nbformat_minor": 5
}

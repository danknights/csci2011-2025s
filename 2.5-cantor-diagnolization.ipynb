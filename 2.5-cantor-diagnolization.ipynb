{
 "cells": [
  {
   "cell_type": "code",
   "execution_count": null,
   "id": "ce94c69e-aea5-44a9-aa54-379927353f34",
   "metadata": {},
   "outputs": [],
   "source": [
    "# Implementation of Cantor's diagonalization\n",
    "def get_cantor_index(n):\n",
    "    \"\"\"Maps counting numbers 1, 2, 3 to the correct row, colum\n",
    "       of Cantor's matrix (1-indexed)\n",
    "\n",
    "       Note: this is an iterative solution, not closed form\n",
    "       (therefore highly inefficient)\n",
    "    \"\"\"\n",
    "    \n",
    "    D = 1 # Tracks which diagonal we are visiting\n",
    "    counter = 1 # Tracks how many positions we visited\n",
    "    \n",
    "    while True:\n",
    "        # The Dth diagonal has D values\n",
    "        for i in range(D):\n",
    "            j = D - i - 1\n",
    "            if counter == n:\n",
    "                return (i+1, j+1) # row, column\n",
    "            counter += 1\n",
    "        D = D + 1"
   ]
  },
  {
   "cell_type": "code",
   "execution_count": null,
   "id": "f2284d26-c30f-4a77-8570-5592549d4bf2",
   "metadata": {},
   "outputs": [],
   "source": [
    "# Note that the output contains duplicate rational numbers\n",
    "# like cell (1, 1) and cell (2, 2).\n",
    "for i in range(1, 12):\n",
    "    print(get_cantor_index(i))"
   ]
  },
  {
   "cell_type": "code",
   "execution_count": null,
   "id": "89c3a62b-acd7-4569-bfa1-c8d252cd0043",
   "metadata": {},
   "outputs": [],
   "source": [
    "# Now we show how to skip the duplicates using a GCD test\n",
    "# to make sure the i, j are co-prime (simplified)\n",
    "\n",
    "import math\n",
    "\n",
    "# Implementation of Cantor's diagonalization without duplicates\n",
    "def get_cantor_index(n):\n",
    "    \"\"\"Maps counting numbers 1, 2, 3 to the correct row, colum\n",
    "       of Cantor's matrix (1-indexed)\n",
    "\n",
    "       Note: this is an iterative solution, not closed form\n",
    "       (therefore highly inefficient)\n",
    "    \"\"\"\n",
    "    \n",
    "    D = 1 # Tracks which diagonal we are visiting\n",
    "    counter = 1 # Tracks how many positions we visited\n",
    "    \n",
    "    while True:\n",
    "        # The Dth diagonal has D values\n",
    "        for i in range(D):\n",
    "            j = D - i - 1\n",
    "            # only count position i, j if co-prime\n",
    "            if math.gcd(i+1, j+1) == 1:\n",
    "                if counter == n:\n",
    "                    return (i+1, j+1) # row, column\n",
    "                counter += 1\n",
    "        D = D + 1"
   ]
  },
  {
   "cell_type": "code",
   "execution_count": null,
   "id": "139a02a1-c11e-46da-b7f1-cde8c1cdb0e2",
   "metadata": {},
   "outputs": [],
   "source": [
    "# Now there are no duplicates\n",
    "for i in range(1, 12):\n",
    "    print(get_cantor_index(i))"
   ]
  },
  {
   "cell_type": "code",
   "execution_count": null,
   "id": "347fb0ab-f593-42af-ab51-f80bf51a3125",
   "metadata": {},
   "outputs": [],
   "source": [
    "# Now modify the code below to return the actual rational numbers...\n",
    "import math\n",
    "\n",
    "# Implementation of Cantor's diagonalization\n",
    "def get_nth_rational_number(n):\n",
    "    \"\"\"Maps counting numbers 1, 2, 3 to the rational numbers\n",
    "       using Cantor's matrix\n",
    "\n",
    "       Note: this is an iterative solution, not closed form\n",
    "       (therefore highly inefficient)\n",
    "    \"\"\"\n",
    "    \n",
    "    D = 1 # Tracks which diagonal we are visiting\n",
    "    counter = 1 # Tracks how many positions we visited\n",
    "    \n",
    "    while True:\n",
    "        # The Dth diagonal has D values\n",
    "        for i in range(D):\n",
    "            j = D - i - 1\n",
    "            # only count position i, j if co-prime\n",
    "            if math.gcd(i+1, j+1) == 1:\n",
    "                if counter == n:\n",
    "                    ### MODIFY HERE ###\n",
    "                    return (i+1, j+1) # row, column\n",
    "                counter += 1\n",
    "        D = D + 1"
   ]
  },
  {
   "cell_type": "code",
   "execution_count": null,
   "id": "cf0cda96-e703-466d-9aec-5cea2f6020fd",
   "metadata": {},
   "outputs": [],
   "source": [
    "# Print the first 100 rational numbers\n",
    "print(\"The first 20 rational numbers are:\")\n",
    "for i in range(1, 20):\n",
    "    print(get_nth_rational_number(i))\n",
    "\n",
    "# Let's print the 100,000th rational number!\n",
    "print(\"\\nThe millionth rational number is:\")\n",
    "print(get_nth_rational_number(1000000))"
   ]
  }
 ],
 "metadata": {
  "kernelspec": {
   "display_name": "Python 3 (ipykernel)",
   "language": "python",
   "name": "python3"
  },
  "language_info": {
   "codemirror_mode": {
    "name": "ipython",
    "version": 3
   },
   "file_extension": ".py",
   "mimetype": "text/x-python",
   "name": "python",
   "nbconvert_exporter": "python",
   "pygments_lexer": "ipython3",
   "version": "3.13.0"
  }
 },
 "nbformat": 4,
 "nbformat_minor": 5
}

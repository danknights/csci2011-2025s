{
 "cells": [
  {
   "cell_type": "markdown",
   "id": "233a1870-a170-42fd-9619-d3190501e3bb",
   "metadata": {},
   "source": [
    "# Recursive Rubik's cube solver\n",
    "## 1. Set up basic functions"
   ]
  },
  {
   "cell_type": "code",
   "execution_count": null,
   "id": "2775895b-83f8-4e3a-8f25-92db71f8649e",
   "metadata": {},
   "outputs": [],
   "source": [
    "import numpy as np # for fast matrix stuff\n",
    "\n",
    "# represent cube as a vector 0..47\n",
    "SOLVED = np.arange(48)\n",
    "\n",
    "# make a map of which sticker goes where\n",
    "# after a given turn\n",
    "map = {}\n",
    "map['U'] = np.array([3, 0, 1, 2, 8, 9, 6, 7, 12, 13, 10, 11, 16, 17, 14, 15, 4, 5, 18, 19, 20, 21, 22, 23, 27, 24, 25, 26, 32, 29, 30, 31, 36, 33, 34, 35, 40, 37, 38, 39, 28, 41, 42, 43, 44, 45, 46, 47])\n",
    "map['F'] = np.array([0, 1, 17, 18, 7, 4, 5, 6, 3, 9, 10, 2, 12, 13, 14, 15, 16, 20, 21, 19, 11, 8, 22, 23, 24, 25, 41, 27, 31, 28, 29, 30, 32, 33, 34, 26, 36, 37, 38, 39, 40, 44, 42, 43, 35, 45, 46, 47])\n",
    "map['R'] = np.array([0, 5, 6, 3, 4, 21, 22, 7, 11, 8, 9, 10, 2, 13, 14, 1, 16, 17, 18, 19, 20, 15, 12, 23, 24, 29, 26, 27, 28, 45, 30, 31, 35, 32, 33, 34, 36, 37, 38, 25, 40, 41, 42, 43, 44, 39, 46, 47])\n",
    "map['B'] = np.array([9, 10, 2, 3, 4, 5, 6, 7, 8, 22, 23, 11, 15, 12, 13, 14, 1, 17, 18, 0, 20, 21, 19, 16, 33, 25, 26, 27, 28, 29, 30, 31, 32, 46, 34, 35, 39, 36, 37, 38, 40, 41, 42, 24, 44, 45, 43, 47])\n",
    "map['L'] = np.array([14, 1, 2, 13, 0, 5, 6, 3, 8, 9, 10, 11, 12, 23, 20, 15, 19, 16, 17, 18, 4, 21, 22, 7, 24, 25, 26, 37, 28, 29, 30, 27, 32, 33, 34, 35, 36, 47, 38, 39, 43, 40, 41, 42, 44, 45, 46, 31])\n",
    "map['D'] = np.array([0, 1, 2, 3, 4, 5, 18, 19, 8, 9, 6, 7, 12, 13, 10, 11, 16, 17, 14, 15, 23, 20, 21, 22, 24, 25, 26, 27, 28, 29, 42, 31, 32, 33, 30, 35, 36, 37, 34, 39, 40, 41, 38, 43, 47, 44, 45, 46])\n",
    "\n",
    "# need U', F' etc.\n",
    "# just use U x 3\n",
    "# call it u\n",
    "# We could write a for loop but this lets us see it visually\n",
    "map['u'] = map['U'][map['U']][map['U']]\n",
    "map['f'] = map['F'][map['F']][map['F']]\n",
    "map['r'] = map['R'][map['R']][map['R']]\n",
    "map['b'] = map['B'][map['B']][map['B']]\n",
    "map['l'] = map['L'][map['L']][map['L']]\n",
    "map['d'] = map['D'][map['D']][map['D']]\n",
    "\n",
    "# convenience function\n",
    "def is_solved(cube):\n",
    "    return (cube == SOLVED).all()\n",
    "\n",
    "# convenient way to do multiple turns\n",
    "# pass in string like UfFbDR\n",
    "def turn(cube, turns):\n",
    "    for turn_name in turns:\n",
    "        cube = cube[map[turn_name]]\n",
    "    return cube"
   ]
  },
  {
   "cell_type": "markdown",
   "id": "3fd30570-5515-4599-a4f5-524d3a75d724",
   "metadata": {},
   "source": [
    "## 2. Test that we can manipulate the cube"
   ]
  },
  {
   "cell_type": "code",
   "execution_count": null,
   "id": "dd65e364-5fcf-4f0c-898e-582981ca9d53",
   "metadata": {},
   "outputs": [],
   "source": [
    "cube = np.arange(48)\n",
    "turn(cube, 'U')"
   ]
  },
  {
   "cell_type": "markdown",
   "id": "523b2380-5a9e-4351-a5f2-36d39b2d9615",
   "metadata": {},
   "source": [
    "## 3. Write the recursive solver"
   ]
  },
  {
   "cell_type": "code",
   "execution_count": null,
   "id": "69c9a097-a019-4a05-b4cf-723074f8c545",
   "metadata": {},
   "outputs": [],
   "source": [
    "# return the solution string\n",
    "# or '!' if no solution\n",
    "def solve(cube, depth=6):\n",
    "\n",
    "    # base case: solved, return empty string\n",
    "    #### FILL THIS IN ####\n",
    "    \n",
    "    # base case: maximum depth; fail by returning \"!\"\n",
    "    #### FILL THIS IN ####\n",
    "\n",
    "    # recursive step\n",
    "    # loop through all possible turns, then recursively solve\n",
    "    for turn_name in map: \n",
    "        solution = #### FILL THIS IN ####\n",
    "        if not solution.endswith('!'):\n",
    "          return turn_name + solution\n",
    "    \n",
    "    return '!'"
   ]
  },
  {
   "cell_type": "markdown",
   "id": "84810d88-3c7f-419a-af8b-33eafd12fbbd",
   "metadata": {},
   "source": [
    "## 4. Test on simple case"
   ]
  },
  {
   "cell_type": "code",
   "execution_count": null,
   "id": "444f0c4c-f69f-44aa-9b3f-bb059b8f952c",
   "metadata": {},
   "outputs": [],
   "source": [
    "cube = np.arange(48)\n",
    "cube = turn(cube, 'F')\n",
    "solution = solve(cube)\n",
    "print(solution)"
   ]
  },
  {
   "cell_type": "markdown",
   "id": "65adb5c9-6b96-4770-82b0-f2c1ecdaac2a",
   "metadata": {},
   "source": [
    "## 5. Make a breadth-first wrapper function"
   ]
  },
  {
   "cell_type": "code",
   "execution_count": null,
   "id": "3c6dd175-26f1-4e4b-a8f2-44fb9ab5cc4e",
   "metadata": {},
   "outputs": [],
   "source": [
    "# make a breadth-first version\n",
    "def solve_bf(cube, depth=5):\n",
    "    for depth_i in range(depth):\n",
    "        solution = solve(cube, depth_i+1)\n",
    "        if not solution.endswith('!'):\n",
    "            return solution\n",
    "    return '!'"
   ]
  },
  {
   "cell_type": "code",
   "execution_count": null,
   "id": "70f9781c-c9c9-42bc-93a3-0509a1908d96",
   "metadata": {},
   "outputs": [],
   "source": [
    "## 6. Test again on different cases"
   ]
  },
  {
   "cell_type": "code",
   "execution_count": null,
   "id": "afd0a2c7-42d7-4f44-96af-f071e83b5d9a",
   "metadata": {},
   "outputs": [],
   "source": [
    "cube = np.arange(48) # fresh solved cube\n",
    "cube = turn(cube, 'F')\n",
    "solution = solve_bf(cube, depth=6)\n",
    "print(solution)"
   ]
  },
  {
   "cell_type": "code",
   "execution_count": null,
   "id": "99473097-426f-46e6-a26f-b167a95e89e0",
   "metadata": {},
   "outputs": [],
   "source": [
    "cube = np.arange(48) # fresh solved cube\n",
    "cube = turn(cube, 'FBRUr')\n",
    "solution = solve_bf(cube, depth=6)\n",
    "print(solution)"
   ]
  },
  {
   "cell_type": "code",
   "execution_count": null,
   "id": "b0cc39b2-cb89-4e11-9df1-80069903fc8f",
   "metadata": {},
   "outputs": [],
   "source": [
    "cube = np.arange(48) # fresh solved cube\n",
    "# enter some random turns\n",
    "# cube = turn(cube,'FdLUrD')\n",
    "# or enter the actual cube state\n",
    "# cube = np.array([....]) \n",
    "\n",
    "solve_bf(cube, depth=6)"
   ]
  },
  {
   "cell_type": "markdown",
   "id": "eef5d5a2-cd02-42bb-b4ad-389014f62371",
   "metadata": {},
   "source": [
    "## Bonus: Find the order of any cube permutation"
   ]
  },
  {
   "cell_type": "code",
   "execution_count": null,
   "id": "c8041a4e-ffe5-4079-98d5-5e17a194d5e2",
   "metadata": {},
   "outputs": [],
   "source": [
    "cube = np.arange(48) # fresh solved cube\n",
    "perm = 'FBRUrFUBlBlbuDDl'\n",
    "cube = turn(cube,perm)\n",
    "count = 1\n",
    "while count < 1000 and not is_solved(cube):\n",
    "    count += 1\n",
    "    cube = turn(cube, perm)\n",
    "print(count)"
   ]
  },
  {
   "cell_type": "code",
   "execution_count": null,
   "id": "3fb13faf-1f4d-4595-b620-a23d22c3b8c3",
   "metadata": {},
   "outputs": [],
   "source": []
  }
 ],
 "metadata": {
  "kernelspec": {
   "display_name": "Python 3 (ipykernel)",
   "language": "python",
   "name": "python3"
  },
  "language_info": {
   "codemirror_mode": {
    "name": "ipython",
    "version": 3
   },
   "file_extension": ".py",
   "mimetype": "text/x-python",
   "name": "python",
   "nbconvert_exporter": "python",
   "pygments_lexer": "ipython3",
   "version": "3.13.0"
  }
 },
 "nbformat": 4,
 "nbformat_minor": 5
}
